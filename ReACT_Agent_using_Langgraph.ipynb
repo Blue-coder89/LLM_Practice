{
 "cells": [
  {
   "cell_type": "code",
   "execution_count": 1,
   "metadata": {},
   "outputs": [
    {
     "name": "stdout",
     "output_type": "stream",
     "text": [
      "Requirement already satisfied: langgraph in c:\\users\\hp\\documents\\projects\\llm_practice\\.venv\\lib\\site-packages (0.2.28)\n",
      "Requirement already satisfied: langchain-core<0.4,>=0.2.39 in c:\\users\\hp\\documents\\projects\\llm_practice\\.venv\\lib\\site-packages (from langgraph) (0.3.6)\n",
      "Requirement already satisfied: langgraph-checkpoint<2.0.0,>=1.0.2 in c:\\users\\hp\\documents\\projects\\llm_practice\\.venv\\lib\\site-packages (from langgraph) (1.0.11)\n",
      "Requirement already satisfied: PyYAML>=5.3 in c:\\users\\hp\\documents\\projects\\llm_practice\\.venv\\lib\\site-packages (from langchain-core<0.4,>=0.2.39->langgraph) (6.0.2)\n",
      "Requirement already satisfied: jsonpatch<2.0,>=1.33 in c:\\users\\hp\\documents\\projects\\llm_practice\\.venv\\lib\\site-packages (from langchain-core<0.4,>=0.2.39->langgraph) (1.33)\n",
      "Requirement already satisfied: langsmith<0.2.0,>=0.1.125 in c:\\users\\hp\\documents\\projects\\llm_practice\\.venv\\lib\\site-packages (from langchain-core<0.4,>=0.2.39->langgraph) (0.1.129)\n",
      "Requirement already satisfied: packaging<25,>=23.2 in c:\\users\\hp\\documents\\projects\\llm_practice\\.venv\\lib\\site-packages (from langchain-core<0.4,>=0.2.39->langgraph) (24.1)\n",
      "Requirement already satisfied: pydantic<3.0.0,>=2.5.2 in c:\\users\\hp\\documents\\projects\\llm_practice\\.venv\\lib\\site-packages (from langchain-core<0.4,>=0.2.39->langgraph) (2.9.2)\n",
      "Requirement already satisfied: tenacity!=8.4.0,<9.0.0,>=8.1.0 in c:\\users\\hp\\documents\\projects\\llm_practice\\.venv\\lib\\site-packages (from langchain-core<0.4,>=0.2.39->langgraph) (8.5.0)\n",
      "Requirement already satisfied: typing-extensions>=4.7 in c:\\users\\hp\\documents\\projects\\llm_practice\\.venv\\lib\\site-packages (from langchain-core<0.4,>=0.2.39->langgraph) (4.12.2)\n",
      "Requirement already satisfied: msgpack<2.0.0,>=1.1.0 in c:\\users\\hp\\documents\\projects\\llm_practice\\.venv\\lib\\site-packages (from langgraph-checkpoint<2.0.0,>=1.0.2->langgraph) (1.1.0)\n",
      "Requirement already satisfied: jsonpointer>=1.9 in c:\\users\\hp\\documents\\projects\\llm_practice\\.venv\\lib\\site-packages (from jsonpatch<2.0,>=1.33->langchain-core<0.4,>=0.2.39->langgraph) (3.0.0)\n",
      "Requirement already satisfied: httpx<1,>=0.23.0 in c:\\users\\hp\\documents\\projects\\llm_practice\\.venv\\lib\\site-packages (from langsmith<0.2.0,>=0.1.125->langchain-core<0.4,>=0.2.39->langgraph) (0.27.2)\n",
      "Requirement already satisfied: orjson<4.0.0,>=3.9.14 in c:\\users\\hp\\documents\\projects\\llm_practice\\.venv\\lib\\site-packages (from langsmith<0.2.0,>=0.1.125->langchain-core<0.4,>=0.2.39->langgraph) (3.10.7)\n",
      "Requirement already satisfied: requests<3,>=2 in c:\\users\\hp\\documents\\projects\\llm_practice\\.venv\\lib\\site-packages (from langsmith<0.2.0,>=0.1.125->langchain-core<0.4,>=0.2.39->langgraph) (2.32.3)\n",
      "Requirement already satisfied: annotated-types>=0.6.0 in c:\\users\\hp\\documents\\projects\\llm_practice\\.venv\\lib\\site-packages (from pydantic<3.0.0,>=2.5.2->langchain-core<0.4,>=0.2.39->langgraph) (0.7.0)\n",
      "Requirement already satisfied: pydantic-core==2.23.4 in c:\\users\\hp\\documents\\projects\\llm_practice\\.venv\\lib\\site-packages (from pydantic<3.0.0,>=2.5.2->langchain-core<0.4,>=0.2.39->langgraph) (2.23.4)\n",
      "Requirement already satisfied: anyio in c:\\users\\hp\\documents\\projects\\llm_practice\\.venv\\lib\\site-packages (from httpx<1,>=0.23.0->langsmith<0.2.0,>=0.1.125->langchain-core<0.4,>=0.2.39->langgraph) (4.6.0)\n",
      "Requirement already satisfied: certifi in c:\\users\\hp\\documents\\projects\\llm_practice\\.venv\\lib\\site-packages (from httpx<1,>=0.23.0->langsmith<0.2.0,>=0.1.125->langchain-core<0.4,>=0.2.39->langgraph) (2024.8.30)\n",
      "Requirement already satisfied: httpcore==1.* in c:\\users\\hp\\documents\\projects\\llm_practice\\.venv\\lib\\site-packages (from httpx<1,>=0.23.0->langsmith<0.2.0,>=0.1.125->langchain-core<0.4,>=0.2.39->langgraph) (1.0.5)\n",
      "Requirement already satisfied: idna in c:\\users\\hp\\documents\\projects\\llm_practice\\.venv\\lib\\site-packages (from httpx<1,>=0.23.0->langsmith<0.2.0,>=0.1.125->langchain-core<0.4,>=0.2.39->langgraph) (3.10)\n",
      "Requirement already satisfied: sniffio in c:\\users\\hp\\documents\\projects\\llm_practice\\.venv\\lib\\site-packages (from httpx<1,>=0.23.0->langsmith<0.2.0,>=0.1.125->langchain-core<0.4,>=0.2.39->langgraph) (1.3.1)\n",
      "Requirement already satisfied: h11<0.15,>=0.13 in c:\\users\\hp\\documents\\projects\\llm_practice\\.venv\\lib\\site-packages (from httpcore==1.*->httpx<1,>=0.23.0->langsmith<0.2.0,>=0.1.125->langchain-core<0.4,>=0.2.39->langgraph) (0.14.0)\n",
      "Requirement already satisfied: charset-normalizer<4,>=2 in c:\\users\\hp\\documents\\projects\\llm_practice\\.venv\\lib\\site-packages (from requests<3,>=2->langsmith<0.2.0,>=0.1.125->langchain-core<0.4,>=0.2.39->langgraph) (3.3.2)\n",
      "Requirement already satisfied: urllib3<3,>=1.21.1 in c:\\users\\hp\\documents\\projects\\llm_practice\\.venv\\lib\\site-packages (from requests<3,>=2->langsmith<0.2.0,>=0.1.125->langchain-core<0.4,>=0.2.39->langgraph) (2.2.3)\n",
      "Note: you may need to restart the kernel to use updated packages.\n",
      "Requirement already satisfied: langchain-community in c:\\users\\hp\\documents\\projects\\llm_practice\\.venv\\lib\\site-packages (0.3.1)\n",
      "Requirement already satisfied: PyYAML>=5.3 in c:\\users\\hp\\documents\\projects\\llm_practice\\.venv\\lib\\site-packages (from langchain-community) (6.0.2)\n",
      "Requirement already satisfied: SQLAlchemy<3,>=1.4 in c:\\users\\hp\\documents\\projects\\llm_practice\\.venv\\lib\\site-packages (from langchain-community) (2.0.35)\n",
      "Requirement already satisfied: aiohttp<4.0.0,>=3.8.3 in c:\\users\\hp\\documents\\projects\\llm_practice\\.venv\\lib\\site-packages (from langchain-community) (3.10.6)\n",
      "Requirement already satisfied: dataclasses-json<0.7,>=0.5.7 in c:\\users\\hp\\documents\\projects\\llm_practice\\.venv\\lib\\site-packages (from langchain-community) (0.6.7)\n",
      "Requirement already satisfied: langchain<0.4.0,>=0.3.1 in c:\\users\\hp\\documents\\projects\\llm_practice\\.venv\\lib\\site-packages (from langchain-community) (0.3.1)\n",
      "Requirement already satisfied: langchain-core<0.4.0,>=0.3.6 in c:\\users\\hp\\documents\\projects\\llm_practice\\.venv\\lib\\site-packages (from langchain-community) (0.3.6)\n",
      "Requirement already satisfied: langsmith<0.2.0,>=0.1.125 in c:\\users\\hp\\documents\\projects\\llm_practice\\.venv\\lib\\site-packages (from langchain-community) (0.1.129)\n",
      "Requirement already satisfied: numpy<2.0.0,>=1.26.0 in c:\\users\\hp\\documents\\projects\\llm_practice\\.venv\\lib\\site-packages (from langchain-community) (1.26.4)\n",
      "Requirement already satisfied: pydantic-settings<3.0.0,>=2.4.0 in c:\\users\\hp\\documents\\projects\\llm_practice\\.venv\\lib\\site-packages (from langchain-community) (2.5.2)\n",
      "Requirement already satisfied: requests<3,>=2 in c:\\users\\hp\\documents\\projects\\llm_practice\\.venv\\lib\\site-packages (from langchain-community) (2.32.3)\n",
      "Requirement already satisfied: tenacity!=8.4.0,<9.0.0,>=8.1.0 in c:\\users\\hp\\documents\\projects\\llm_practice\\.venv\\lib\\site-packages (from langchain-community) (8.5.0)\n",
      "Requirement already satisfied: aiohappyeyeballs>=2.3.0 in c:\\users\\hp\\documents\\projects\\llm_practice\\.venv\\lib\\site-packages (from aiohttp<4.0.0,>=3.8.3->langchain-community) (2.4.2)\n",
      "Requirement already satisfied: aiosignal>=1.1.2 in c:\\users\\hp\\documents\\projects\\llm_practice\\.venv\\lib\\site-packages (from aiohttp<4.0.0,>=3.8.3->langchain-community) (1.3.1)\n",
      "Requirement already satisfied: attrs>=17.3.0 in c:\\users\\hp\\documents\\projects\\llm_practice\\.venv\\lib\\site-packages (from aiohttp<4.0.0,>=3.8.3->langchain-community) (24.2.0)\n",
      "Requirement already satisfied: frozenlist>=1.1.1 in c:\\users\\hp\\documents\\projects\\llm_practice\\.venv\\lib\\site-packages (from aiohttp<4.0.0,>=3.8.3->langchain-community) (1.4.1)\n",
      "Requirement already satisfied: multidict<7.0,>=4.5 in c:\\users\\hp\\documents\\projects\\llm_practice\\.venv\\lib\\site-packages (from aiohttp<4.0.0,>=3.8.3->langchain-community) (6.1.0)\n",
      "Requirement already satisfied: yarl<2.0,>=1.12.0 in c:\\users\\hp\\documents\\projects\\llm_practice\\.venv\\lib\\site-packages (from aiohttp<4.0.0,>=3.8.3->langchain-community) (1.13.0)\n",
      "Requirement already satisfied: marshmallow<4.0.0,>=3.18.0 in c:\\users\\hp\\documents\\projects\\llm_practice\\.venv\\lib\\site-packages (from dataclasses-json<0.7,>=0.5.7->langchain-community) (3.22.0)\n",
      "Requirement already satisfied: typing-inspect<1,>=0.4.0 in c:\\users\\hp\\documents\\projects\\llm_practice\\.venv\\lib\\site-packages (from dataclasses-json<0.7,>=0.5.7->langchain-community) (0.9.0)\n",
      "Requirement already satisfied: langchain-text-splitters<0.4.0,>=0.3.0 in c:\\users\\hp\\documents\\projects\\llm_practice\\.venv\\lib\\site-packages (from langchain<0.4.0,>=0.3.1->langchain-community) (0.3.0)\n",
      "Requirement already satisfied: pydantic<3.0.0,>=2.7.4 in c:\\users\\hp\\documents\\projects\\llm_practice\\.venv\\lib\\site-packages (from langchain<0.4.0,>=0.3.1->langchain-community) (2.9.2)\n",
      "Requirement already satisfied: jsonpatch<2.0,>=1.33 in c:\\users\\hp\\documents\\projects\\llm_practice\\.venv\\lib\\site-packages (from langchain-core<0.4.0,>=0.3.6->langchain-community) (1.33)\n",
      "Requirement already satisfied: packaging<25,>=23.2 in c:\\users\\hp\\documents\\projects\\llm_practice\\.venv\\lib\\site-packages (from langchain-core<0.4.0,>=0.3.6->langchain-community) (24.1)\n",
      "Requirement already satisfied: typing-extensions>=4.7 in c:\\users\\hp\\documents\\projects\\llm_practice\\.venv\\lib\\site-packages (from langchain-core<0.4.0,>=0.3.6->langchain-community) (4.12.2)\n",
      "Requirement already satisfied: httpx<1,>=0.23.0 in c:\\users\\hp\\documents\\projects\\llm_practice\\.venv\\lib\\site-packages (from langsmith<0.2.0,>=0.1.125->langchain-community) (0.27.2)\n",
      "Requirement already satisfied: orjson<4.0.0,>=3.9.14 in c:\\users\\hp\\documents\\projects\\llm_practice\\.venv\\lib\\site-packages (from langsmith<0.2.0,>=0.1.125->langchain-community) (3.10.7)\n",
      "Requirement already satisfied: python-dotenv>=0.21.0 in c:\\users\\hp\\documents\\projects\\llm_practice\\.venv\\lib\\site-packages (from pydantic-settings<3.0.0,>=2.4.0->langchain-community) (1.0.1)\n",
      "Requirement already satisfied: charset-normalizer<4,>=2 in c:\\users\\hp\\documents\\projects\\llm_practice\\.venv\\lib\\site-packages (from requests<3,>=2->langchain-community) (3.3.2)\n",
      "Requirement already satisfied: idna<4,>=2.5 in c:\\users\\hp\\documents\\projects\\llm_practice\\.venv\\lib\\site-packages (from requests<3,>=2->langchain-community) (3.10)\n",
      "Requirement already satisfied: urllib3<3,>=1.21.1 in c:\\users\\hp\\documents\\projects\\llm_practice\\.venv\\lib\\site-packages (from requests<3,>=2->langchain-community) (2.2.3)\n",
      "Requirement already satisfied: certifi>=2017.4.17 in c:\\users\\hp\\documents\\projects\\llm_practice\\.venv\\lib\\site-packages (from requests<3,>=2->langchain-community) (2024.8.30)\n",
      "Requirement already satisfied: greenlet!=0.4.17 in c:\\users\\hp\\documents\\projects\\llm_practice\\.venv\\lib\\site-packages (from SQLAlchemy<3,>=1.4->langchain-community) (3.1.1)\n",
      "Requirement already satisfied: anyio in c:\\users\\hp\\documents\\projects\\llm_practice\\.venv\\lib\\site-packages (from httpx<1,>=0.23.0->langsmith<0.2.0,>=0.1.125->langchain-community) (4.6.0)\n",
      "Requirement already satisfied: httpcore==1.* in c:\\users\\hp\\documents\\projects\\llm_practice\\.venv\\lib\\site-packages (from httpx<1,>=0.23.0->langsmith<0.2.0,>=0.1.125->langchain-community) (1.0.5)\n",
      "Requirement already satisfied: sniffio in c:\\users\\hp\\documents\\projects\\llm_practice\\.venv\\lib\\site-packages (from httpx<1,>=0.23.0->langsmith<0.2.0,>=0.1.125->langchain-community) (1.3.1)\n",
      "Requirement already satisfied: h11<0.15,>=0.13 in c:\\users\\hp\\documents\\projects\\llm_practice\\.venv\\lib\\site-packages (from httpcore==1.*->httpx<1,>=0.23.0->langsmith<0.2.0,>=0.1.125->langchain-community) (0.14.0)\n",
      "Requirement already satisfied: jsonpointer>=1.9 in c:\\users\\hp\\documents\\projects\\llm_practice\\.venv\\lib\\site-packages (from jsonpatch<2.0,>=1.33->langchain-core<0.4.0,>=0.3.6->langchain-community) (3.0.0)\n",
      "Requirement already satisfied: annotated-types>=0.6.0 in c:\\users\\hp\\documents\\projects\\llm_practice\\.venv\\lib\\site-packages (from pydantic<3.0.0,>=2.7.4->langchain<0.4.0,>=0.3.1->langchain-community) (0.7.0)\n",
      "Requirement already satisfied: pydantic-core==2.23.4 in c:\\users\\hp\\documents\\projects\\llm_practice\\.venv\\lib\\site-packages (from pydantic<3.0.0,>=2.7.4->langchain<0.4.0,>=0.3.1->langchain-community) (2.23.4)\n",
      "Requirement already satisfied: mypy-extensions>=0.3.0 in c:\\users\\hp\\documents\\projects\\llm_practice\\.venv\\lib\\site-packages (from typing-inspect<1,>=0.4.0->dataclasses-json<0.7,>=0.5.7->langchain-community) (1.0.0)\n",
      "Note: you may need to restart the kernel to use updated packages.\n",
      "Requirement already satisfied: langchain-ollama in c:\\users\\hp\\documents\\projects\\llm_practice\\.venv\\lib\\site-packages (0.2.0)\n",
      "Requirement already satisfied: langchain-core<0.4.0,>=0.3.0 in c:\\users\\hp\\documents\\projects\\llm_practice\\.venv\\lib\\site-packages (from langchain-ollama) (0.3.6)\n",
      "Requirement already satisfied: ollama<1,>=0.3.0 in c:\\users\\hp\\documents\\projects\\llm_practice\\.venv\\lib\\site-packages (from langchain-ollama) (0.3.3)\n",
      "Requirement already satisfied: PyYAML>=5.3 in c:\\users\\hp\\documents\\projects\\llm_practice\\.venv\\lib\\site-packages (from langchain-core<0.4.0,>=0.3.0->langchain-ollama) (6.0.2)\n",
      "Requirement already satisfied: jsonpatch<2.0,>=1.33 in c:\\users\\hp\\documents\\projects\\llm_practice\\.venv\\lib\\site-packages (from langchain-core<0.4.0,>=0.3.0->langchain-ollama) (1.33)\n",
      "Requirement already satisfied: langsmith<0.2.0,>=0.1.125 in c:\\users\\hp\\documents\\projects\\llm_practice\\.venv\\lib\\site-packages (from langchain-core<0.4.0,>=0.3.0->langchain-ollama) (0.1.129)\n",
      "Requirement already satisfied: packaging<25,>=23.2 in c:\\users\\hp\\documents\\projects\\llm_practice\\.venv\\lib\\site-packages (from langchain-core<0.4.0,>=0.3.0->langchain-ollama) (24.1)\n",
      "Requirement already satisfied: pydantic<3.0.0,>=2.5.2 in c:\\users\\hp\\documents\\projects\\llm_practice\\.venv\\lib\\site-packages (from langchain-core<0.4.0,>=0.3.0->langchain-ollama) (2.9.2)\n",
      "Requirement already satisfied: tenacity!=8.4.0,<9.0.0,>=8.1.0 in c:\\users\\hp\\documents\\projects\\llm_practice\\.venv\\lib\\site-packages (from langchain-core<0.4.0,>=0.3.0->langchain-ollama) (8.5.0)\n",
      "Requirement already satisfied: typing-extensions>=4.7 in c:\\users\\hp\\documents\\projects\\llm_practice\\.venv\\lib\\site-packages (from langchain-core<0.4.0,>=0.3.0->langchain-ollama) (4.12.2)\n",
      "Requirement already satisfied: httpx<0.28.0,>=0.27.0 in c:\\users\\hp\\documents\\projects\\llm_practice\\.venv\\lib\\site-packages (from ollama<1,>=0.3.0->langchain-ollama) (0.27.2)\n",
      "Requirement already satisfied: anyio in c:\\users\\hp\\documents\\projects\\llm_practice\\.venv\\lib\\site-packages (from httpx<0.28.0,>=0.27.0->ollama<1,>=0.3.0->langchain-ollama) (4.6.0)\n",
      "Requirement already satisfied: certifi in c:\\users\\hp\\documents\\projects\\llm_practice\\.venv\\lib\\site-packages (from httpx<0.28.0,>=0.27.0->ollama<1,>=0.3.0->langchain-ollama) (2024.8.30)\n",
      "Requirement already satisfied: httpcore==1.* in c:\\users\\hp\\documents\\projects\\llm_practice\\.venv\\lib\\site-packages (from httpx<0.28.0,>=0.27.0->ollama<1,>=0.3.0->langchain-ollama) (1.0.5)\n",
      "Requirement already satisfied: idna in c:\\users\\hp\\documents\\projects\\llm_practice\\.venv\\lib\\site-packages (from httpx<0.28.0,>=0.27.0->ollama<1,>=0.3.0->langchain-ollama) (3.10)\n",
      "Requirement already satisfied: sniffio in c:\\users\\hp\\documents\\projects\\llm_practice\\.venv\\lib\\site-packages (from httpx<0.28.0,>=0.27.0->ollama<1,>=0.3.0->langchain-ollama) (1.3.1)\n",
      "Requirement already satisfied: h11<0.15,>=0.13 in c:\\users\\hp\\documents\\projects\\llm_practice\\.venv\\lib\\site-packages (from httpcore==1.*->httpx<0.28.0,>=0.27.0->ollama<1,>=0.3.0->langchain-ollama) (0.14.0)\n",
      "Requirement already satisfied: jsonpointer>=1.9 in c:\\users\\hp\\documents\\projects\\llm_practice\\.venv\\lib\\site-packages (from jsonpatch<2.0,>=1.33->langchain-core<0.4.0,>=0.3.0->langchain-ollama) (3.0.0)\n",
      "Requirement already satisfied: orjson<4.0.0,>=3.9.14 in c:\\users\\hp\\documents\\projects\\llm_practice\\.venv\\lib\\site-packages (from langsmith<0.2.0,>=0.1.125->langchain-core<0.4.0,>=0.3.0->langchain-ollama) (3.10.7)\n",
      "Requirement already satisfied: requests<3,>=2 in c:\\users\\hp\\documents\\projects\\llm_practice\\.venv\\lib\\site-packages (from langsmith<0.2.0,>=0.1.125->langchain-core<0.4.0,>=0.3.0->langchain-ollama) (2.32.3)\n",
      "Requirement already satisfied: annotated-types>=0.6.0 in c:\\users\\hp\\documents\\projects\\llm_practice\\.venv\\lib\\site-packages (from pydantic<3.0.0,>=2.5.2->langchain-core<0.4.0,>=0.3.0->langchain-ollama) (0.7.0)\n",
      "Requirement already satisfied: pydantic-core==2.23.4 in c:\\users\\hp\\documents\\projects\\llm_practice\\.venv\\lib\\site-packages (from pydantic<3.0.0,>=2.5.2->langchain-core<0.4.0,>=0.3.0->langchain-ollama) (2.23.4)\n",
      "Requirement already satisfied: charset-normalizer<4,>=2 in c:\\users\\hp\\documents\\projects\\llm_practice\\.venv\\lib\\site-packages (from requests<3,>=2->langsmith<0.2.0,>=0.1.125->langchain-core<0.4.0,>=0.3.0->langchain-ollama) (3.3.2)\n",
      "Requirement already satisfied: urllib3<3,>=1.21.1 in c:\\users\\hp\\documents\\projects\\llm_practice\\.venv\\lib\\site-packages (from requests<3,>=2->langsmith<0.2.0,>=0.1.125->langchain-core<0.4.0,>=0.3.0->langchain-ollama) (2.2.3)\n",
      "Note: you may need to restart the kernel to use updated packages.\n",
      "Requirement already satisfied: duckduckgo-search in c:\\users\\hp\\documents\\projects\\llm_practice\\.venv\\lib\\site-packages (6.2.13)\n",
      "Requirement already satisfied: click>=8.1.7 in c:\\users\\hp\\documents\\projects\\llm_practice\\.venv\\lib\\site-packages (from duckduckgo-search) (8.1.7)\n",
      "Requirement already satisfied: primp>=0.6.3 in c:\\users\\hp\\documents\\projects\\llm_practice\\.venv\\lib\\site-packages (from duckduckgo-search) (0.6.3)\n",
      "Requirement already satisfied: colorama in c:\\users\\hp\\documents\\projects\\llm_practice\\.venv\\lib\\site-packages (from click>=8.1.7->duckduckgo-search) (0.4.6)\n",
      "Note: you may need to restart the kernel to use updated packages.\n",
      "Requirement already satisfied: ollama in c:\\users\\hp\\documents\\projects\\llm_practice\\.venv\\lib\\site-packages (0.3.3)\n",
      "Requirement already satisfied: httpx<0.28.0,>=0.27.0 in c:\\users\\hp\\documents\\projects\\llm_practice\\.venv\\lib\\site-packages (from ollama) (0.27.2)\n",
      "Requirement already satisfied: anyio in c:\\users\\hp\\documents\\projects\\llm_practice\\.venv\\lib\\site-packages (from httpx<0.28.0,>=0.27.0->ollama) (4.6.0)\n",
      "Requirement already satisfied: certifi in c:\\users\\hp\\documents\\projects\\llm_practice\\.venv\\lib\\site-packages (from httpx<0.28.0,>=0.27.0->ollama) (2024.8.30)\n",
      "Requirement already satisfied: httpcore==1.* in c:\\users\\hp\\documents\\projects\\llm_practice\\.venv\\lib\\site-packages (from httpx<0.28.0,>=0.27.0->ollama) (1.0.5)\n",
      "Requirement already satisfied: idna in c:\\users\\hp\\documents\\projects\\llm_practice\\.venv\\lib\\site-packages (from httpx<0.28.0,>=0.27.0->ollama) (3.10)\n",
      "Requirement already satisfied: sniffio in c:\\users\\hp\\documents\\projects\\llm_practice\\.venv\\lib\\site-packages (from httpx<0.28.0,>=0.27.0->ollama) (1.3.1)\n",
      "Requirement already satisfied: h11<0.15,>=0.13 in c:\\users\\hp\\documents\\projects\\llm_practice\\.venv\\lib\\site-packages (from httpcore==1.*->httpx<0.28.0,>=0.27.0->ollama) (0.14.0)\n",
      "Note: you may need to restart the kernel to use updated packages.\n"
     ]
    }
   ],
   "source": [
    "%pip install langgraph\n",
    "%pip install langchain-community\n",
    "%pip install langchain-ollama\n",
    "%pip install duckduckgo-search\n",
    "%pip install ollama"
   ]
  },
  {
   "cell_type": "code",
   "execution_count": 2,
   "metadata": {},
   "outputs": [],
   "source": [
    "from langgraph.graph import StateGraph, END\n",
    "from typing import TypedDict, Annotated\n",
    "import operator\n",
    "from langchain_core.messages import AnyMessage, SystemMessage, HumanMessage, ToolMessage\n",
    "# from langchain_community.tools.ddg_search.tool import DuckDuckGoSearchResults\n",
    "# from langchain_community.utilities.duckduckgo_search import DuckDuckGoSearchAPIWrapper\n",
    "from langchain_community.tools.tavily_search import TavilySearchResults\n",
    "from langchain_ollama import ChatOllama\n",
    "from dotenv import load_dotenv\n",
    "from abc import ABC,abstractmethod\n",
    "import ollama"
   ]
  },
  {
   "cell_type": "code",
   "execution_count": 3,
   "metadata": {},
   "outputs": [],
   "source": [
    "_ = load_dotenv()"
   ]
  },
  {
   "cell_type": "code",
   "execution_count": 4,
   "metadata": {},
   "outputs": [
    {
     "name": "stdout",
     "output_type": "stream",
     "text": [
      "<class 'langchain_community.tools.tavily_search.tool.TavilySearchResults'>\n",
      "tavily_search_results_json\n"
     ]
    }
   ],
   "source": [
    "tool = TavilySearchResults()\n",
    "print(type(tool))\n",
    "print(tool.name)"
   ]
  },
  {
   "cell_type": "code",
   "execution_count": null,
   "metadata": {},
   "outputs": [],
   "source": [
    "# wrapper = DuckDuckGoSearchAPIWrapper(max_results=5)\n",
    "# tool = DuckDuckGoSearchResults(api_wrapper=wrapper)\n",
    "# print(type(tool))\n",
    "# print(tool.name)"
   ]
  },
  {
   "cell_type": "code",
   "execution_count": 5,
   "metadata": {},
   "outputs": [],
   "source": [
    "class AgentState(TypedDict):\n",
    "    messages: Annotated[list[AnyMessage], operator.add]"
   ]
  },
  {
   "cell_type": "code",
   "execution_count": 6,
   "metadata": {},
   "outputs": [],
   "source": [
    "class Agent:\n",
    "\n",
    "    def __init__(self,model,tools,system_message=\"\"):\n",
    "        self.system = system_message\n",
    "        self.graph = self._initialize_graph()\n",
    "        self.tools = {t.name:t for t in tools}\n",
    "        self.model = model.bind_tools(tools)\n",
    "    \n",
    "    def _initialize_graph(self):\n",
    "        graph = StateGraph(AgentState)\n",
    "        graph.add_node('llm',self.call_llm)\n",
    "        graph.add_node('action',self.take_action)\n",
    "        graph.add_conditional_edges('llm',self.exists_action,{True:'action',False:END})\n",
    "        graph.add_edge('action','llm')\n",
    "        graph.set_entry_point('llm')\n",
    "        return graph.compile()\n",
    "\n",
    "    def call_llm(self,state:AgentState):\n",
    "        messages = state['messages']\n",
    "        if self.system:\n",
    "            messages = [SystemMessage(content=self.system)] + messages\n",
    "        message = self.model.invoke(messages)\n",
    "        return {'messages':[message]}\n",
    "\n",
    "    def take_action(self,state:AgentState):\n",
    "        tool_calls = state['messages'][-1].tool_calls\n",
    "        results = []\n",
    "        for tool in tool_calls:\n",
    "            print(f\"Calling :{tool}\")\n",
    "            if not tool['name'] in self.tools:\n",
    "                print(f\"Tool {tool['name']} not found\")\n",
    "                result = \"Bad tool name, retry\"\n",
    "            else:\n",
    "                result = self.tools[tool['name']].invoke(tool['args'])\n",
    "            results.append(ToolMessage(tool_call_id=tool['id'],name=tool['name'],content=str(result)))\n",
    "        print(\"Back to the model.\")\n",
    "        return {'messages':results}\n",
    "\n",
    "    def exists_action(self,state:AgentState):\n",
    "        result = state['messages'][-1]\n",
    "        return len(result.tool_calls) > 0"
   ]
  },
  {
   "cell_type": "code",
   "execution_count": 7,
   "metadata": {},
   "outputs": [],
   "source": [
    "try:\n",
    "    ollama.show('llama3.2')\n",
    "except ollama.ResponseError as e:\n",
    "    ollama.pull('llama3.2')\n",
    "    ollama.show('llama3.2')"
   ]
  },
  {
   "cell_type": "code",
   "execution_count": 8,
   "metadata": {},
   "outputs": [],
   "source": [
    "system_prompt = \"\"\"You are a smart research assistant. Use the search engine to look up information. \\\n",
    "You are allowed to make multiple calls (either together or in sequence). \\\n",
    "Only look up information when you are sure of what you want. \\\n",
    "If you need to look up some information before asking a follow up question, you are allowed to do that!\n",
    "\"\"\""
   ]
  },
  {
   "cell_type": "code",
   "execution_count": 9,
   "metadata": {},
   "outputs": [],
   "source": [
    "llm = ChatOllama(model=\"llama3.2\")"
   ]
  },
  {
   "cell_type": "code",
   "execution_count": 10,
   "metadata": {},
   "outputs": [],
   "source": [
    "abot = Agent(model=llm,tools=[tool],system_message=system_prompt)"
   ]
  },
  {
   "cell_type": "code",
   "execution_count": 11,
   "metadata": {},
   "outputs": [
    {
     "name": "stdout",
     "output_type": "stream",
     "text": [
      "Calling :{'name': 'tavily_search_results_json', 'args': {'query': 'Kodaikanal temperature'}, 'id': '9682612f-a98d-4dc4-98f2-313015f192f2', 'type': 'tool_call'}\n",
      "Back to the model.\n"
     ]
    },
    {
     "data": {
      "text/plain": [
       "{'messages': [HumanMessage(content='What is the temperature of kodaikanal?', additional_kwargs={}, response_metadata={}),\n",
       "  AIMessage(content='', additional_kwargs={}, response_metadata={'model': 'llama3.2', 'created_at': '2024-10-03T05:46:44.6863148Z', 'message': {'role': 'assistant', 'content': '', 'tool_calls': [{'function': {'name': 'tavily_search_results_json', 'arguments': {'query': 'Kodaikanal temperature'}}}]}, 'done_reason': 'stop', 'done': True, 'total_duration': 6787284800, 'load_duration': 4515730000, 'prompt_eval_count': 261, 'prompt_eval_duration': 1325284000, 'eval_count': 25, 'eval_duration': 939538000}, id='run-7d589e10-cdfd-43df-93ad-9ecaa264a3d9-0', tool_calls=[{'name': 'tavily_search_results_json', 'args': {'query': 'Kodaikanal temperature'}, 'id': '9682612f-a98d-4dc4-98f2-313015f192f2', 'type': 'tool_call'}], usage_metadata={'input_tokens': 261, 'output_tokens': 25, 'total_tokens': 286}),\n",
       "  ToolMessage(content=\"[{'url': 'https://weather.com/en-IN/weather/tenday/l/Kodaikanal+Tamil+Nadu?canonicalCityId=87f967c0be9d38de749893237f3d72bff6166394f3e4c3cd7849e66b4a15fbbf', 'content': 'Find out the temperature, precipitation, wind and humidity for the next 10 days in Kodaikanal, a hill station in Tamil Nadu. Expect mostly cloudy and rainy days with highs around 22°C and lows around 13°C.'}, {'url': 'https://www.bbc.com/weather/1266425', 'content': 'Observations - Kodaikanal. Observed at 08:30, ... BBC Weather in association with MeteoGroup, external. All times are India Standard Time (Asia/Kolkata, GMT+5:30) unless otherwise stated.'}, {'url': 'https://www.accuweather.com/en/in/kodaikanal/195980/daily-weather-forecast/195980', 'content': 'Get the latest weather information for Kodaikanal, Tamil Nadu, India, including temperature, precipitation, wind, UV index and more. See the daily forecast for the next 15 days and plan your trip accordingly.'}, {'url': 'https://www.wunderground.com/weather/in/kodaikanal', 'content': 'Kodaikanal Weather Forecasts. Weather Underground provides local & long-range weather forecasts, weatherreports, maps & tropical weather conditions for the Kodaikanal area.'}, {'url': 'https://www.accuweather.com/en/in/kodaikanal/195980/weather-forecast/195980', 'content': 'Get the current and future weather conditions for Kodaikanal, Tamil Nadu, India, including temperature, precipitation, wind, and air quality. See the hourly and 10-day forecast for sun, clouds, and showers.'}]\", name='tavily_search_results_json', tool_call_id='9682612f-a98d-4dc4-98f2-313015f192f2'),\n",
       "  AIMessage(content='The current temperature in Kodaikanal is not explicitly stated in my search results. However, based on the forecasts provided by various weather websites, it appears that the temperature in Kodaikanal can vary depending on the time of year.\\n\\nAccording to the weather.com website, the highs around 22°C and lows around 13°C are expected during the next 10 days.\\n\\nPlease note that these temperatures are subject to change and may not reflect the current temperature at this moment.', additional_kwargs={}, response_metadata={'model': 'llama3.2', 'created_at': '2024-10-03T05:46:56.4103175Z', 'message': {'role': 'assistant', 'content': 'The current temperature in Kodaikanal is not explicitly stated in my search results. However, based on the forecasts provided by various weather websites, it appears that the temperature in Kodaikanal can vary depending on the time of year.\\n\\nAccording to the weather.com website, the highs around 22°C and lows around 13°C are expected during the next 10 days.\\n\\nPlease note that these temperatures are subject to change and may not reflect the current temperature at this moment.'}, 'done_reason': 'stop', 'done': True, 'total_duration': 7911854000, 'load_duration': 35727000, 'prompt_eval_count': 572, 'prompt_eval_duration': 2471279000, 'eval_count': 97, 'eval_duration': 5394996000}, id='run-54cfbf4b-cd51-43de-8942-06563223f221-0', usage_metadata={'input_tokens': 572, 'output_tokens': 97, 'total_tokens': 669})]}"
      ]
     },
     "execution_count": 11,
     "metadata": {},
     "output_type": "execute_result"
    }
   ],
   "source": [
    "messages = [HumanMessage(content=\"What is the temperature of kodaikanal?\")]\n",
    "result = abot.graph.invoke({\"messages\": messages})\n",
    "result"
   ]
  }
 ],
 "metadata": {
  "kernelspec": {
   "display_name": ".venv",
   "language": "python",
   "name": "python3"
  },
  "language_info": {
   "codemirror_mode": {
    "name": "ipython",
    "version": 3
   },
   "file_extension": ".py",
   "mimetype": "text/x-python",
   "name": "python",
   "nbconvert_exporter": "python",
   "pygments_lexer": "ipython3",
   "version": "3.12.1"
  }
 },
 "nbformat": 4,
 "nbformat_minor": 2
}
